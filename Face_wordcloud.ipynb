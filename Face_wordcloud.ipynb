{
 "metadata": {
  "name": "face_wordcloud.ipynb"
 },
 "nbformat": 3,
 "nbformat_minor": 0,
 "worksheets": [
  {
   "cells": [
    {
     "cell_type": "code",
     "collapsed": false,
     "input": [
      "from pytagcloud import create_tag_image, make_tags\n",
      "from pytagcloud.lang.counter import get_tag_counts\n",
      "import os\n",
      "from sklearn.feature_extraction.text import CountVectorizer\n",
      "from nltk.corpus import stopwords\n",
      "import nltk\n",
      "import string\n",
      "import pandas as pd"
     ],
     "language": "python",
     "metadata": {},
     "outputs": [],
     "prompt_number": 2
    },
    {
     "cell_type": "code",
     "collapsed": false,
     "input": [
      "os.chdir('C:/Users/Ethan-PC/Desktop/Mine_Safety_Accidents')"
     ],
     "language": "python",
     "metadata": {},
     "outputs": [],
     "prompt_number": 3
    },
    {
     "cell_type": "code",
     "collapsed": false,
     "input": [
      "accidents=pd.read_csv('Accidents.txt',sep='|')\n",
      "accidents.columns=[x.lower() for x in accidents.columns]"
     ],
     "language": "python",
     "metadata": {},
     "outputs": [],
     "prompt_number": 4
    },
    {
     "cell_type": "code",
     "collapsed": false,
     "input": [
      "Face_accidents=accidents[accidents['ug_location']=='FACE']"
     ],
     "language": "python",
     "metadata": {},
     "outputs": [],
     "prompt_number": 20
    },
    {
     "cell_type": "code",
     "collapsed": false,
     "input": [
      "Face_narrative=' '.join([w for w in Face_accidents['narrative']]).lower()"
     ],
     "language": "python",
     "metadata": {},
     "outputs": [],
     "prompt_number": 23
    },
    {
     "cell_type": "code",
     "collapsed": false,
     "input": [
      "Face_tokenized=nltk.word_tokenize(Face_narrative)"
     ],
     "language": "python",
     "metadata": {},
     "outputs": [],
     "prompt_number": 24
    },
    {
     "cell_type": "code",
     "collapsed": false,
     "input": [
      "remove_list=['employee'] + stopwords.words('english')"
     ],
     "language": "python",
     "metadata": {},
     "outputs": [],
     "prompt_number": 26
    },
    {
     "cell_type": "code",
     "collapsed": false,
     "input": [
      "Face_cleanup=[w for w in Face_tokenized if w not in remove_list and  w.isalpha()]\n"
     ],
     "language": "python",
     "metadata": {},
     "outputs": [],
     "prompt_number": 27
    },
    {
     "cell_type": "code",
     "collapsed": false,
     "input": [
      "Face_tagged=nltk.pos_tag(Face_cleanup)"
     ],
     "language": "python",
     "metadata": {},
     "outputs": [],
     "prompt_number": 28
    },
    {
     "cell_type": "code",
     "collapsed": false,
     "input": [
      "Face_noun=[w for (w,tag) in Face_tagged if tag == 'NN']\n",
      "Face_presentverb=[w for (w,tag) in Face_tagged if tag == 'VBG']\n",
      "Face_verb_noun=[w for (w,tag) in Face_tagged if tag in ['NN','VBD','VBN','VBG']]\n"
     ],
     "language": "python",
     "metadata": {},
     "outputs": [],
     "prompt_number": 29
    },
    {
     "cell_type": "code",
     "collapsed": false,
     "input": [
      "fdist=nltk.FreqDist(Face_cleanup)\n",
      "Nfdist=nltk.FreqDist(Face_noun)\n",
      "Vfdist=nltk.FreqDist(Face_presentverb)\n",
      "VNfdist=nltk.FreqDist(Face_verb_noun)\n"
     ],
     "language": "python",
     "metadata": {},
     "outputs": [],
     "prompt_number": 30
    },
    {
     "cell_type": "code",
     "collapsed": false,
     "input": [
      "Face_noun_Top_elements=Nfdist.keys()[:50]\n",
      "Face_verb_Top_elements=Nfdist.keys()[:50]\n",
      "Face_nounverb_Top_elements=VNfdist.keys()[:50]\n",
      "\n",
      "Face_verb_sorted=' '.join([w for w in Face_presentverb if w in Face_verb_Top_elements])\n",
      "Face_noun_sorted=' '.join([w for w in Face_noun if w in Face_noun_Top_elements])\n",
      "Face_verbnoun_sorted=' '.join([w for w in Face_verb_noun if w in Face_nounverb_Top_elements])\n"
     ],
     "language": "python",
     "metadata": {},
     "outputs": [],
     "prompt_number": 32
    },
    {
     "cell_type": "code",
     "collapsed": false,
     "input": [
      "Face_Top_elements=fdist.keys()[:50]\n",
      "Face_sorted=' '.join([w for w in Face_cleanup if w in Face_Top_elements])"
     ],
     "language": "python",
     "metadata": {},
     "outputs": [],
     "prompt_number": 34
    },
    {
     "cell_type": "code",
     "collapsed": false,
     "input": [
      "tags = make_tags(get_tag_counts(Face_sorted), maxsize=120)\n",
      "\n",
      "create_tag_image(tags, 'Face_all.png', size=(900, 600), fontname='Lobster' )\n",
      "\n",
      "#import webbrowser\n",
      "#webbrowser.open('MRH_noun.png') # see results"
     ],
     "language": "python",
     "metadata": {},
     "outputs": [],
     "prompt_number": 40
    },
    {
     "cell_type": "code",
     "collapsed": false,
     "input": [],
     "language": "python",
     "metadata": {},
     "outputs": []
    }
   ],
   "metadata": {}
  }
 ]
}